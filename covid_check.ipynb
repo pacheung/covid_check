{
 "cells": [
  {
   "cell_type": "code",
   "execution_count": 1,
   "metadata": {},
   "outputs": [
    {
     "name": "stdout",
     "output_type": "stream",
     "text": [
      "/Users/ckska/repo/covid_check/.gitignore\n",
      "/Users/ckska/repo/covid_check/building_list_eng.csv\n",
      "/Users/ckska/repo/covid_check/covid_check.ipynb\n",
      "/Users/ckska/repo/covid_check/covid_check.ps1\n",
      "/Users/ckska/repo/covid_check/covid_check.py\n",
      "/Users/ckska/repo/covid_check/D14_AG_Chart.png\n",
      "/Users/ckska/repo/covid_check/enhanced_sur_covid_19_eng.csv\n",
      "/Users/ckska/repo/covid_check/hkg_adm1.geojson\n",
      "/Users/ckska/repo/covid_check/hkg_adm1.geojson.json\n",
      "/Users/ckska/repo/covid_check/large_clusters_eng.csv\n",
      "/Users/ckska/repo/covid_check/LICENSE\n",
      "/Users/ckska/repo/covid_check/README.md\n",
      "/Users/ckska/repo/covid_check/sample.csv\n",
      "/Users/ckska/repo/covid_check/.git\\COMMIT_EDITMSG\n",
      "/Users/ckska/repo/covid_check/.git\\config\n",
      "/Users/ckska/repo/covid_check/.git\\description\n",
      "/Users/ckska/repo/covid_check/.git\\FETCH_HEAD\n",
      "/Users/ckska/repo/covid_check/.git\\HEAD\n",
      "/Users/ckska/repo/covid_check/.git\\index\n",
      "/Users/ckska/repo/covid_check/.git\\ORIG_HEAD\n",
      "/Users/ckska/repo/covid_check/.git\\packed-refs\n",
      "/Users/ckska/repo/covid_check/.git\\hooks\\applypatch-msg.sample\n",
      "/Users/ckska/repo/covid_check/.git\\hooks\\commit-msg.sample\n",
      "/Users/ckska/repo/covid_check/.git\\hooks\\fsmonitor-watchman.sample\n",
      "/Users/ckska/repo/covid_check/.git\\hooks\\post-update.sample\n",
      "/Users/ckska/repo/covid_check/.git\\hooks\\pre-applypatch.sample\n",
      "/Users/ckska/repo/covid_check/.git\\hooks\\pre-commit.sample\n",
      "/Users/ckska/repo/covid_check/.git\\hooks\\pre-merge-commit.sample\n",
      "/Users/ckska/repo/covid_check/.git\\hooks\\pre-push.sample\n",
      "/Users/ckska/repo/covid_check/.git\\hooks\\pre-rebase.sample\n",
      "/Users/ckska/repo/covid_check/.git\\hooks\\pre-receive.sample\n",
      "/Users/ckska/repo/covid_check/.git\\hooks\\prepare-commit-msg.sample\n",
      "/Users/ckska/repo/covid_check/.git\\hooks\\update.sample\n",
      "/Users/ckska/repo/covid_check/.git\\info\\exclude\n",
      "/Users/ckska/repo/covid_check/.git\\logs\\HEAD\n",
      "/Users/ckska/repo/covid_check/.git\\logs\\refs\\heads\\main\n",
      "/Users/ckska/repo/covid_check/.git\\logs\\refs\\remotes\\origin\\HEAD\n",
      "/Users/ckska/repo/covid_check/.git\\logs\\refs\\remotes\\origin\\main\n",
      "/Users/ckska/repo/covid_check/.git\\objects\\02\\bf5947b95fc713e155486b8f67d043c37570a3\n",
      "/Users/ckska/repo/covid_check/.git\\objects\\0c\\65e0042bf272475fd4c4751aa6fae01a22af05\n",
      "/Users/ckska/repo/covid_check/.git\\objects\\0d\\d4408fba34f3675c5801f8175db894f29c34b9\n",
      "/Users/ckska/repo/covid_check/.git\\objects\\0f\\228788c28880b36fd258a16d2d1666e738f275\n",
      "/Users/ckska/repo/covid_check/.git\\objects\\1c\\378bf3f49d819051bcfce80976b26758d61f47\n",
      "/Users/ckska/repo/covid_check/.git\\objects\\24\\d4821fefafd9cb9f9f7f8f33bea96779cc26db\n",
      "/Users/ckska/repo/covid_check/.git\\objects\\29\\3397ab5af095752bfe90f76e5cac5832963bdf\n",
      "/Users/ckska/repo/covid_check/.git\\objects\\2b\\8db3fc91254301b5f4782def1c761c6c95cab9\n",
      "/Users/ckska/repo/covid_check/.git\\objects\\37\\eac317de737a9a44d851e3aaca3218f4ca55b7\n",
      "/Users/ckska/repo/covid_check/.git\\objects\\39\\33bebda779ef45e51d40fe8f8869ab5812563e\n",
      "/Users/ckska/repo/covid_check/.git\\objects\\3e\\a60b3ddee22c51841473365ef70a5c2fc029ee\n",
      "/Users/ckska/repo/covid_check/.git\\objects\\3e\\d7dcd901f419764f536ea464ca609863f9be51\n",
      "/Users/ckska/repo/covid_check/.git\\objects\\3f\\8d3ff368f8e03b0e061595f85e2a7d56324686\n",
      "/Users/ckska/repo/covid_check/.git\\objects\\45\\479574073a46523424411efa202a0e87c6b6c3\n",
      "/Users/ckska/repo/covid_check/.git\\objects\\48\\523d9626cb251b8d78da3b342e4436a6ab1aaf\n",
      "/Users/ckska/repo/covid_check/.git\\objects\\4a\\68ddcd9d3a53d438b99e6421f449e2b4f79b06\n",
      "/Users/ckska/repo/covid_check/.git\\objects\\4a\\a4c6690136fbd80c74f2546a716737ae661bc5\n",
      "/Users/ckska/repo/covid_check/.git\\objects\\55\\1f64b1657fc185b01cc17e23916bce30704066\n",
      "/Users/ckska/repo/covid_check/.git\\objects\\56\\109240a2720d83417fcd5a76980dbbf2c61740\n",
      "/Users/ckska/repo/covid_check/.git\\objects\\59\\5a71021f60b37164ebc0b6ba4ce4443cfc8cbf\n",
      "/Users/ckska/repo/covid_check/.git\\objects\\60\\b9f00a57d39ad76b163926b2d37f99947639df\n",
      "/Users/ckska/repo/covid_check/.git\\objects\\64\\58d393461a2341315b00e777c11b47d15fa7e3\n",
      "/Users/ckska/repo/covid_check/.git\\objects\\68\\f52d23a669ee6db6f89394748f03ff594bdee3\n",
      "/Users/ckska/repo/covid_check/.git\\objects\\69\\96e7fafc1addba03e9b179c947a8701bf5b5c1\n",
      "/Users/ckska/repo/covid_check/.git\\objects\\6f\\4127f6d70daf997068f25a45005884888804a9\n",
      "/Users/ckska/repo/covid_check/.git\\objects\\6f\\4ca5c1eb4c16009d30129801d81e89c4fce4a6\n",
      "/Users/ckska/repo/covid_check/.git\\objects\\6f\\a1efeb97a9ef6ab987e952d7abe344cbe5e476\n",
      "/Users/ckska/repo/covid_check/.git\\objects\\79\\51772b4ec82e3e52e01824380c3f4a8a294f2e\n",
      "/Users/ckska/repo/covid_check/.git\\objects\\7b\\635794a735e7f9903451bda835a5984f277475\n",
      "/Users/ckska/repo/covid_check/.git\\objects\\80\\86af479471d5292e901ff1b72c8a27c68b6b4c\n",
      "/Users/ckska/repo/covid_check/.git\\objects\\82\\76386b7f47b8d2ae756c9dab909176008d9751\n",
      "/Users/ckska/repo/covid_check/.git\\objects\\89\\acc3c9f6a98177eb13fd49126209985fd722c1\n",
      "/Users/ckska/repo/covid_check/.git\\objects\\8b\\ab6326ba2c5eb205b5177dc3dcaac18388ab80\n",
      "/Users/ckska/repo/covid_check/.git\\objects\\92\\7feb4322e4644a98b52dea3da42e58ef25fa7c\n",
      "/Users/ckska/repo/covid_check/.git\\objects\\96\\c93bfa5a36ae1a74b08db5975d94f9174ede64\n",
      "/Users/ckska/repo/covid_check/.git\\objects\\9a\\a43ce4d403f6524b7e7ce2046db5e0ee9e83b2\n",
      "/Users/ckska/repo/covid_check/.git\\objects\\9a\\ffcbdb04e4178824ef2873f2a8d5bbcdf266cc\n",
      "/Users/ckska/repo/covid_check/.git\\objects\\9f\\dbe3b2fa404f4d3c48fc1fd64845288b5cc73c\n",
      "/Users/ckska/repo/covid_check/.git\\objects\\a4\\a3e06227ba459f09aecce5eaa1c2ca17a15058\n",
      "/Users/ckska/repo/covid_check/.git\\objects\\a6\\163ebcb141130d8ad6e43ba963fed9493966e2\n",
      "/Users/ckska/repo/covid_check/.git\\objects\\a9\\41066fea66537544769958d71042f0f4096451\n",
      "/Users/ckska/repo/covid_check/.git\\objects\\b2\\8cc34afb49d9f805339980214ca216d3a73070\n",
      "/Users/ckska/repo/covid_check/.git\\objects\\b8\\4b40f8890d4fc5cf6e08d2d8aa84e7aafd8f6a\n",
      "/Users/ckska/repo/covid_check/.git\\objects\\bb\\de6e7465eb8346a2a94ccdbe664e15a451aa79\n",
      "/Users/ckska/repo/covid_check/.git\\objects\\bd\\ffa4c51cfabd552b9b7ad9dbaaf92a1b84136c\n",
      "/Users/ckska/repo/covid_check/.git\\objects\\be\\ec0cae75728d6f6a4c966d5dda3f95f15b1620\n",
      "/Users/ckska/repo/covid_check/.git\\objects\\c1\\e7d23d6c8b846eca2ee845f7d77f86a71c06f8\n",
      "/Users/ckska/repo/covid_check/.git\\objects\\c2\\bf1c9a3862462cfd61a8c69c81f848fddfccdc\n",
      "/Users/ckska/repo/covid_check/.git\\objects\\c4\\e57cacd0015c025745c6fa1a94c0965b4beee2\n",
      "/Users/ckska/repo/covid_check/.git\\objects\\c6\\d713792ddf0bbd6974ab9999b38fd8616bcdb5\n",
      "/Users/ckska/repo/covid_check/.git\\objects\\c7\\57a1562ed983da2a02003ff4c97c577fb72bfc\n",
      "/Users/ckska/repo/covid_check/.git\\objects\\d0\\b6457e25f67742e7e547abfb96f4f3159cd9ef\n",
      "/Users/ckska/repo/covid_check/.git\\objects\\d3\\04ad4c8ff267caf1489f6c57f5b3831aae193a\n",
      "/Users/ckska/repo/covid_check/.git\\objects\\d3\\101113572d4f4c69f3ac377627d8ce07b16d26\n",
      "/Users/ckska/repo/covid_check/.git\\objects\\db\\ac3e28d73b8abf269398089b91894f5d7e45d6\n",
      "/Users/ckska/repo/covid_check/.git\\objects\\e2\\9db9dc20ccfabb5c6c4451bee904fb47219476\n",
      "/Users/ckska/repo/covid_check/.git\\objects\\e4\\acec8558218ca06cec475b788a0fc2d8f1f9fc\n",
      "/Users/ckska/repo/covid_check/.git\\objects\\e7\\210889658eddf004d7c9e2ca7ea53eeea9ca9e\n",
      "/Users/ckska/repo/covid_check/.git\\objects\\ec\\0121db2de1166fb5e67ae6259602f2ee1ae41b\n",
      "/Users/ckska/repo/covid_check/.git\\objects\\ee\\9efb48485b7abb77cb1263f493da7a60f42b65\n",
      "/Users/ckska/repo/covid_check/.git\\objects\\ef\\521d46e4e234117978182e64358fc4a57274d5\n",
      "/Users/ckska/repo/covid_check/.git\\objects\\ef\\d97e0d8d9ca4d639c0e768e782b45096250295\n",
      "/Users/ckska/repo/covid_check/.git\\objects\\ef\\fcb4bff1e2fc2d7452deb88e73a39fc65010f6\n",
      "/Users/ckska/repo/covid_check/.git\\objects\\f2\\f40b0b1e7fd288a891e12ca4c23af55326793c\n",
      "/Users/ckska/repo/covid_check/.git\\objects\\f6\\82efb4b510f234be37a31a75ba33dcaf56ba09\n",
      "/Users/ckska/repo/covid_check/.git\\objects\\f7\\e64f97fc4709d5e9fc6f788f230182bfa1c804\n",
      "/Users/ckska/repo/covid_check/.git\\objects\\f9\\baa58355d173f2cdea3960ff863db183c8302f\n",
      "/Users/ckska/repo/covid_check/.git\\objects\\fb\\5b9c49739f1faed742bb707407df8de339092e\n",
      "/Users/ckska/repo/covid_check/.git\\objects\\fc\\87613dc430eab2a3f2787f1a318bf1b110804a\n",
      "/Users/ckska/repo/covid_check/.git\\objects\\fd\\3bd410e2318f43d3a0e3b0ac4d49717ddc73c4\n",
      "/Users/ckska/repo/covid_check/.git\\objects\\fe\\4d41ee3405298f401d832baca0a6040b68fc69\n",
      "/Users/ckska/repo/covid_check/.git\\objects\\pack\\pack-8b90f4cd378875962dca2fb6ee59c660f1a9e86b.idx\n",
      "/Users/ckska/repo/covid_check/.git\\objects\\pack\\pack-8b90f4cd378875962dca2fb6ee59c660f1a9e86b.pack\n",
      "/Users/ckska/repo/covid_check/.git\\refs\\heads\\main\n",
      "/Users/ckska/repo/covid_check/.git\\refs\\remotes\\origin\\HEAD\n",
      "/Users/ckska/repo/covid_check/.git\\refs\\remotes\\origin\\main\n",
      "/Users/ckska/repo/covid_check/.ipynb_checkpoints\\covid_check-checkpoint.ipynb\n"
     ]
    }
   ],
   "source": [
    "import os\n",
    "for dirname, _, filenames in os.walk('/Users/ckska/repo/covid_check/'):\n",
    "    for filename in filenames:\n",
    "        print(os.path.join(dirname, filename))"
   ]
  },
  {
   "cell_type": "code",
   "execution_count": 2,
   "metadata": {},
   "outputs": [],
   "source": [
    "import numpy as np\n",
    "import pandas as pd\n",
    "import seaborn as sns\n",
    "import matplotlib as mpl\n",
    "import matplotlib.pyplot as plt"
   ]
  },
  {
   "cell_type": "code",
   "execution_count": 3,
   "metadata": {},
   "outputs": [],
   "source": [
    "%matplotlib inline\n"
   ]
  },
  {
   "cell_type": "code",
   "execution_count": 4,
   "metadata": {},
   "outputs": [
    {
     "name": "stdout",
     "output_type": "stream",
     "text": [
      "['Solarize_Light2', '_classic_test_patch', 'bmh', 'classic', 'dark_background', 'fast', 'fivethirtyeight', 'ggplot', 'grayscale', 'seaborn', 'seaborn-bright', 'seaborn-colorblind', 'seaborn-dark', 'seaborn-dark-palette', 'seaborn-darkgrid', 'seaborn-deep', 'seaborn-muted', 'seaborn-notebook', 'seaborn-paper', 'seaborn-pastel', 'seaborn-poster', 'seaborn-talk', 'seaborn-ticks', 'seaborn-white', 'seaborn-whitegrid', 'tableau-colorblind10']\n"
     ]
    }
   ],
   "source": [
    "import matplotlib.style\n",
    "print(plt.style.available) # see what styles are available\n",
    "mpl.style.use('Solarize_Light2')"
   ]
  },
  {
   "cell_type": "code",
   "execution_count": 5,
   "metadata": {},
   "outputs": [
    {
     "data": {
      "text/html": [
       "<div>\n",
       "<style scoped>\n",
       "    .dataframe tbody tr th:only-of-type {\n",
       "        vertical-align: middle;\n",
       "    }\n",
       "\n",
       "    .dataframe tbody tr th {\n",
       "        vertical-align: top;\n",
       "    }\n",
       "\n",
       "    .dataframe thead th {\n",
       "        text-align: right;\n",
       "    }\n",
       "</style>\n",
       "<table border=\"1\" class=\"dataframe\">\n",
       "  <thead>\n",
       "    <tr style=\"text-align: right;\">\n",
       "      <th></th>\n",
       "      <th>Case no.</th>\n",
       "      <th>Report date</th>\n",
       "      <th>Date of onset</th>\n",
       "      <th>Gender</th>\n",
       "      <th>Age</th>\n",
       "      <th>Name of hospital admitted</th>\n",
       "      <th>Hospitalised/Discharged/Deceased</th>\n",
       "      <th>HK/Non-HK resident</th>\n",
       "      <th>Case classification*</th>\n",
       "      <th>Confirmed/probable</th>\n",
       "    </tr>\n",
       "  </thead>\n",
       "  <tbody>\n",
       "    <tr>\n",
       "      <th>0</th>\n",
       "      <td>1</td>\n",
       "      <td>23/01/2020</td>\n",
       "      <td>21/01/2020</td>\n",
       "      <td>M</td>\n",
       "      <td>39</td>\n",
       "      <td>NaN</td>\n",
       "      <td>Discharged</td>\n",
       "      <td>Non-HK resident</td>\n",
       "      <td>Imported case</td>\n",
       "      <td>Confirmed</td>\n",
       "    </tr>\n",
       "    <tr>\n",
       "      <th>1</th>\n",
       "      <td>2</td>\n",
       "      <td>23/01/2020</td>\n",
       "      <td>18/01/2020</td>\n",
       "      <td>M</td>\n",
       "      <td>56</td>\n",
       "      <td>NaN</td>\n",
       "      <td>Discharged</td>\n",
       "      <td>HK resident</td>\n",
       "      <td>Imported case</td>\n",
       "      <td>Confirmed</td>\n",
       "    </tr>\n",
       "    <tr>\n",
       "      <th>2</th>\n",
       "      <td>3</td>\n",
       "      <td>24/01/2020</td>\n",
       "      <td>20/01/2020</td>\n",
       "      <td>F</td>\n",
       "      <td>62</td>\n",
       "      <td>NaN</td>\n",
       "      <td>Discharged</td>\n",
       "      <td>Non-HK resident</td>\n",
       "      <td>Imported case</td>\n",
       "      <td>Confirmed</td>\n",
       "    </tr>\n",
       "    <tr>\n",
       "      <th>3</th>\n",
       "      <td>4</td>\n",
       "      <td>24/01/2020</td>\n",
       "      <td>23/01/2020</td>\n",
       "      <td>F</td>\n",
       "      <td>62</td>\n",
       "      <td>NaN</td>\n",
       "      <td>Discharged</td>\n",
       "      <td>Non-HK resident</td>\n",
       "      <td>Imported case</td>\n",
       "      <td>Confirmed</td>\n",
       "    </tr>\n",
       "    <tr>\n",
       "      <th>4</th>\n",
       "      <td>5</td>\n",
       "      <td>24/01/2020</td>\n",
       "      <td>23/01/2020</td>\n",
       "      <td>M</td>\n",
       "      <td>63</td>\n",
       "      <td>NaN</td>\n",
       "      <td>Discharged</td>\n",
       "      <td>Non-HK resident</td>\n",
       "      <td>Imported case</td>\n",
       "      <td>Confirmed</td>\n",
       "    </tr>\n",
       "  </tbody>\n",
       "</table>\n",
       "</div>"
      ],
      "text/plain": [
       "   Case no. Report date Date of onset Gender  Age  Name of hospital admitted  \\\n",
       "0         1  23/01/2020    21/01/2020      M   39                        NaN   \n",
       "1         2  23/01/2020    18/01/2020      M   56                        NaN   \n",
       "2         3  24/01/2020    20/01/2020      F   62                        NaN   \n",
       "3         4  24/01/2020    23/01/2020      F   62                        NaN   \n",
       "4         5  24/01/2020    23/01/2020      M   63                        NaN   \n",
       "\n",
       "  Hospitalised/Discharged/Deceased HK/Non-HK resident Case classification*  \\\n",
       "0                       Discharged    Non-HK resident        Imported case   \n",
       "1                       Discharged        HK resident        Imported case   \n",
       "2                       Discharged    Non-HK resident        Imported case   \n",
       "3                       Discharged    Non-HK resident        Imported case   \n",
       "4                       Discharged    Non-HK resident        Imported case   \n",
       "\n",
       "  Confirmed/probable  \n",
       "0          Confirmed  \n",
       "1          Confirmed  \n",
       "2          Confirmed  \n",
       "3          Confirmed  \n",
       "4          Confirmed  "
      ]
     },
     "execution_count": 5,
     "metadata": {},
     "output_type": "execute_result"
    }
   ],
   "source": [
    "import numpy as np\n",
    "import pandas as pd\n",
    "import seaborn as sns\n",
    "import matplotlib as mpl\n",
    "import matplotlib.pyplot as plt\n",
    "df = pd.read_csv('enhanced_sur_covid_19_eng.csv')\n",
    "df.head()"
   ]
  },
  {
   "cell_type": "code",
   "execution_count": 6,
   "metadata": {},
   "outputs": [
    {
     "data": {
      "text/plain": [
       "(7804, 10)"
      ]
     },
     "execution_count": 6,
     "metadata": {},
     "output_type": "execute_result"
    }
   ],
   "source": [
    "df.shape\n"
   ]
  },
  {
   "cell_type": "code",
   "execution_count": 7,
   "metadata": {},
   "outputs": [
    {
     "data": {
      "text/plain": [
       "Index(['Case no.', 'Report date', 'Date of onset', 'Gender', 'Age',\n",
       "       'Name of hospital admitted', 'Hospitalised/Discharged/Deceased',\n",
       "       'HK/Non-HK resident', 'Case classification*', 'Confirmed/probable'],\n",
       "      dtype='object')"
      ]
     },
     "execution_count": 7,
     "metadata": {},
     "output_type": "execute_result"
    }
   ],
   "source": [
    "df.columns\n"
   ]
  },
  {
   "cell_type": "code",
   "execution_count": 8,
   "metadata": {},
   "outputs": [
    {
     "data": {
      "text/html": [
       "<div>\n",
       "<style scoped>\n",
       "    .dataframe tbody tr th:only-of-type {\n",
       "        vertical-align: middle;\n",
       "    }\n",
       "\n",
       "    .dataframe tbody tr th {\n",
       "        vertical-align: top;\n",
       "    }\n",
       "\n",
       "    .dataframe thead th {\n",
       "        text-align: right;\n",
       "    }\n",
       "</style>\n",
       "<table border=\"1\" class=\"dataframe\">\n",
       "  <thead>\n",
       "    <tr style=\"text-align: right;\">\n",
       "      <th></th>\n",
       "      <th>Report date</th>\n",
       "      <th>Date of onset</th>\n",
       "      <th>Gender</th>\n",
       "      <th>Age</th>\n",
       "      <th>Name of hospital admitted</th>\n",
       "      <th>Hospitalised/Discharged/Deceased</th>\n",
       "      <th>HK/Non-HK resident</th>\n",
       "      <th>Case classification*</th>\n",
       "      <th>Confirmed/probable</th>\n",
       "    </tr>\n",
       "    <tr>\n",
       "      <th>Case no.</th>\n",
       "      <th></th>\n",
       "      <th></th>\n",
       "      <th></th>\n",
       "      <th></th>\n",
       "      <th></th>\n",
       "      <th></th>\n",
       "      <th></th>\n",
       "      <th></th>\n",
       "      <th></th>\n",
       "    </tr>\n",
       "  </thead>\n",
       "  <tbody>\n",
       "    <tr>\n",
       "      <th>1</th>\n",
       "      <td>23/01/2020</td>\n",
       "      <td>21/01/2020</td>\n",
       "      <td>M</td>\n",
       "      <td>39</td>\n",
       "      <td>NaN</td>\n",
       "      <td>Discharged</td>\n",
       "      <td>Non-HK resident</td>\n",
       "      <td>Imported case</td>\n",
       "      <td>Confirmed</td>\n",
       "    </tr>\n",
       "    <tr>\n",
       "      <th>2</th>\n",
       "      <td>23/01/2020</td>\n",
       "      <td>18/01/2020</td>\n",
       "      <td>M</td>\n",
       "      <td>56</td>\n",
       "      <td>NaN</td>\n",
       "      <td>Discharged</td>\n",
       "      <td>HK resident</td>\n",
       "      <td>Imported case</td>\n",
       "      <td>Confirmed</td>\n",
       "    </tr>\n",
       "    <tr>\n",
       "      <th>3</th>\n",
       "      <td>24/01/2020</td>\n",
       "      <td>20/01/2020</td>\n",
       "      <td>F</td>\n",
       "      <td>62</td>\n",
       "      <td>NaN</td>\n",
       "      <td>Discharged</td>\n",
       "      <td>Non-HK resident</td>\n",
       "      <td>Imported case</td>\n",
       "      <td>Confirmed</td>\n",
       "    </tr>\n",
       "    <tr>\n",
       "      <th>4</th>\n",
       "      <td>24/01/2020</td>\n",
       "      <td>23/01/2020</td>\n",
       "      <td>F</td>\n",
       "      <td>62</td>\n",
       "      <td>NaN</td>\n",
       "      <td>Discharged</td>\n",
       "      <td>Non-HK resident</td>\n",
       "      <td>Imported case</td>\n",
       "      <td>Confirmed</td>\n",
       "    </tr>\n",
       "    <tr>\n",
       "      <th>5</th>\n",
       "      <td>24/01/2020</td>\n",
       "      <td>23/01/2020</td>\n",
       "      <td>M</td>\n",
       "      <td>63</td>\n",
       "      <td>NaN</td>\n",
       "      <td>Discharged</td>\n",
       "      <td>Non-HK resident</td>\n",
       "      <td>Imported case</td>\n",
       "      <td>Confirmed</td>\n",
       "    </tr>\n",
       "    <tr>\n",
       "      <th>...</th>\n",
       "      <td>...</td>\n",
       "      <td>...</td>\n",
       "      <td>...</td>\n",
       "      <td>...</td>\n",
       "      <td>...</td>\n",
       "      <td>...</td>\n",
       "      <td>...</td>\n",
       "      <td>...</td>\n",
       "      <td>...</td>\n",
       "    </tr>\n",
       "    <tr>\n",
       "      <th>7800</th>\n",
       "      <td>16/12/2020</td>\n",
       "      <td>Asymptomatic</td>\n",
       "      <td>F</td>\n",
       "      <td>58</td>\n",
       "      <td>NaN</td>\n",
       "      <td>To be provided</td>\n",
       "      <td>HK resident</td>\n",
       "      <td>Epidemiologically linked with local case</td>\n",
       "      <td>Confirmed</td>\n",
       "    </tr>\n",
       "    <tr>\n",
       "      <th>7801</th>\n",
       "      <td>16/12/2020</td>\n",
       "      <td>Asymptomatic</td>\n",
       "      <td>F</td>\n",
       "      <td>49</td>\n",
       "      <td>NaN</td>\n",
       "      <td>To be provided</td>\n",
       "      <td>HK resident</td>\n",
       "      <td>Local case</td>\n",
       "      <td>Confirmed</td>\n",
       "    </tr>\n",
       "    <tr>\n",
       "      <th>7802</th>\n",
       "      <td>16/12/2020</td>\n",
       "      <td>14/12/2020</td>\n",
       "      <td>F</td>\n",
       "      <td>65</td>\n",
       "      <td>NaN</td>\n",
       "      <td>To be provided</td>\n",
       "      <td>HK resident</td>\n",
       "      <td>Epidemiologically linked with local case</td>\n",
       "      <td>Confirmed</td>\n",
       "    </tr>\n",
       "    <tr>\n",
       "      <th>7803</th>\n",
       "      <td>16/12/2020</td>\n",
       "      <td>11/12/2020</td>\n",
       "      <td>M</td>\n",
       "      <td>40</td>\n",
       "      <td>NaN</td>\n",
       "      <td>To be provided</td>\n",
       "      <td>HK resident</td>\n",
       "      <td>Local case</td>\n",
       "      <td>Confirmed</td>\n",
       "    </tr>\n",
       "    <tr>\n",
       "      <th>7804</th>\n",
       "      <td>16/12/2020</td>\n",
       "      <td>11/12/2020</td>\n",
       "      <td>F</td>\n",
       "      <td>78</td>\n",
       "      <td>NaN</td>\n",
       "      <td>To be provided</td>\n",
       "      <td>HK resident</td>\n",
       "      <td>Local case</td>\n",
       "      <td>Confirmed</td>\n",
       "    </tr>\n",
       "  </tbody>\n",
       "</table>\n",
       "<p>7804 rows × 9 columns</p>\n",
       "</div>"
      ],
      "text/plain": [
       "         Report date Date of onset Gender  Age  Name of hospital admitted  \\\n",
       "Case no.                                                                    \n",
       "1         23/01/2020    21/01/2020      M   39                        NaN   \n",
       "2         23/01/2020    18/01/2020      M   56                        NaN   \n",
       "3         24/01/2020    20/01/2020      F   62                        NaN   \n",
       "4         24/01/2020    23/01/2020      F   62                        NaN   \n",
       "5         24/01/2020    23/01/2020      M   63                        NaN   \n",
       "...              ...           ...    ...  ...                        ...   \n",
       "7800      16/12/2020  Asymptomatic      F   58                        NaN   \n",
       "7801      16/12/2020  Asymptomatic      F   49                        NaN   \n",
       "7802      16/12/2020    14/12/2020      F   65                        NaN   \n",
       "7803      16/12/2020    11/12/2020      M   40                        NaN   \n",
       "7804      16/12/2020    11/12/2020      F   78                        NaN   \n",
       "\n",
       "         Hospitalised/Discharged/Deceased HK/Non-HK resident  \\\n",
       "Case no.                                                       \n",
       "1                              Discharged    Non-HK resident   \n",
       "2                              Discharged        HK resident   \n",
       "3                              Discharged    Non-HK resident   \n",
       "4                              Discharged    Non-HK resident   \n",
       "5                              Discharged    Non-HK resident   \n",
       "...                                   ...                ...   \n",
       "7800                       To be provided        HK resident   \n",
       "7801                       To be provided        HK resident   \n",
       "7802                       To be provided        HK resident   \n",
       "7803                       To be provided        HK resident   \n",
       "7804                       To be provided        HK resident   \n",
       "\n",
       "                              Case classification* Confirmed/probable  \n",
       "Case no.                                                               \n",
       "1                                    Imported case          Confirmed  \n",
       "2                                    Imported case          Confirmed  \n",
       "3                                    Imported case          Confirmed  \n",
       "4                                    Imported case          Confirmed  \n",
       "5                                    Imported case          Confirmed  \n",
       "...                                            ...                ...  \n",
       "7800      Epidemiologically linked with local case          Confirmed  \n",
       "7801                                    Local case          Confirmed  \n",
       "7802      Epidemiologically linked with local case          Confirmed  \n",
       "7803                                    Local case          Confirmed  \n",
       "7804                                    Local case          Confirmed  \n",
       "\n",
       "[7804 rows x 9 columns]"
      ]
     },
     "execution_count": 8,
     "metadata": {},
     "output_type": "execute_result"
    }
   ],
   "source": [
    "df.set_index('Case no.', inplace = True)\n",
    "df"
   ]
  },
  {
   "cell_type": "code",
   "execution_count": 9,
   "metadata": {},
   "outputs": [
    {
     "data": {
      "text/html": [
       "<div>\n",
       "<style scoped>\n",
       "    .dataframe tbody tr th:only-of-type {\n",
       "        vertical-align: middle;\n",
       "    }\n",
       "\n",
       "    .dataframe tbody tr th {\n",
       "        vertical-align: top;\n",
       "    }\n",
       "\n",
       "    .dataframe thead th {\n",
       "        text-align: right;\n",
       "    }\n",
       "</style>\n",
       "<table border=\"1\" class=\"dataframe\">\n",
       "  <thead>\n",
       "    <tr style=\"text-align: right;\">\n",
       "      <th></th>\n",
       "      <th>Report date</th>\n",
       "      <th>Date of onset</th>\n",
       "      <th>Gender</th>\n",
       "      <th>Age</th>\n",
       "      <th>Name of hospital admitted</th>\n",
       "      <th>Hospitalised/Discharged/Deceased</th>\n",
       "      <th>HK/Non-HK resident</th>\n",
       "      <th>Case classification</th>\n",
       "      <th>Confirmed/probable</th>\n",
       "    </tr>\n",
       "    <tr>\n",
       "      <th>Case no.</th>\n",
       "      <th></th>\n",
       "      <th></th>\n",
       "      <th></th>\n",
       "      <th></th>\n",
       "      <th></th>\n",
       "      <th></th>\n",
       "      <th></th>\n",
       "      <th></th>\n",
       "      <th></th>\n",
       "    </tr>\n",
       "  </thead>\n",
       "  <tbody>\n",
       "    <tr>\n",
       "      <th>1</th>\n",
       "      <td>23/01/2020</td>\n",
       "      <td>21/01/2020</td>\n",
       "      <td>M</td>\n",
       "      <td>39</td>\n",
       "      <td>NaN</td>\n",
       "      <td>Discharged</td>\n",
       "      <td>Non-HK resident</td>\n",
       "      <td>Imported case</td>\n",
       "      <td>Confirmed</td>\n",
       "    </tr>\n",
       "    <tr>\n",
       "      <th>2</th>\n",
       "      <td>23/01/2020</td>\n",
       "      <td>18/01/2020</td>\n",
       "      <td>M</td>\n",
       "      <td>56</td>\n",
       "      <td>NaN</td>\n",
       "      <td>Discharged</td>\n",
       "      <td>HK resident</td>\n",
       "      <td>Imported case</td>\n",
       "      <td>Confirmed</td>\n",
       "    </tr>\n",
       "    <tr>\n",
       "      <th>3</th>\n",
       "      <td>24/01/2020</td>\n",
       "      <td>20/01/2020</td>\n",
       "      <td>F</td>\n",
       "      <td>62</td>\n",
       "      <td>NaN</td>\n",
       "      <td>Discharged</td>\n",
       "      <td>Non-HK resident</td>\n",
       "      <td>Imported case</td>\n",
       "      <td>Confirmed</td>\n",
       "    </tr>\n",
       "    <tr>\n",
       "      <th>4</th>\n",
       "      <td>24/01/2020</td>\n",
       "      <td>23/01/2020</td>\n",
       "      <td>F</td>\n",
       "      <td>62</td>\n",
       "      <td>NaN</td>\n",
       "      <td>Discharged</td>\n",
       "      <td>Non-HK resident</td>\n",
       "      <td>Imported case</td>\n",
       "      <td>Confirmed</td>\n",
       "    </tr>\n",
       "    <tr>\n",
       "      <th>5</th>\n",
       "      <td>24/01/2020</td>\n",
       "      <td>23/01/2020</td>\n",
       "      <td>M</td>\n",
       "      <td>63</td>\n",
       "      <td>NaN</td>\n",
       "      <td>Discharged</td>\n",
       "      <td>Non-HK resident</td>\n",
       "      <td>Imported case</td>\n",
       "      <td>Confirmed</td>\n",
       "    </tr>\n",
       "    <tr>\n",
       "      <th>...</th>\n",
       "      <td>...</td>\n",
       "      <td>...</td>\n",
       "      <td>...</td>\n",
       "      <td>...</td>\n",
       "      <td>...</td>\n",
       "      <td>...</td>\n",
       "      <td>...</td>\n",
       "      <td>...</td>\n",
       "      <td>...</td>\n",
       "    </tr>\n",
       "    <tr>\n",
       "      <th>7800</th>\n",
       "      <td>16/12/2020</td>\n",
       "      <td>Asymptomatic</td>\n",
       "      <td>F</td>\n",
       "      <td>58</td>\n",
       "      <td>NaN</td>\n",
       "      <td>To be provided</td>\n",
       "      <td>HK resident</td>\n",
       "      <td>Epidemiologically linked with local case</td>\n",
       "      <td>Confirmed</td>\n",
       "    </tr>\n",
       "    <tr>\n",
       "      <th>7801</th>\n",
       "      <td>16/12/2020</td>\n",
       "      <td>Asymptomatic</td>\n",
       "      <td>F</td>\n",
       "      <td>49</td>\n",
       "      <td>NaN</td>\n",
       "      <td>To be provided</td>\n",
       "      <td>HK resident</td>\n",
       "      <td>Local case</td>\n",
       "      <td>Confirmed</td>\n",
       "    </tr>\n",
       "    <tr>\n",
       "      <th>7802</th>\n",
       "      <td>16/12/2020</td>\n",
       "      <td>14/12/2020</td>\n",
       "      <td>F</td>\n",
       "      <td>65</td>\n",
       "      <td>NaN</td>\n",
       "      <td>To be provided</td>\n",
       "      <td>HK resident</td>\n",
       "      <td>Epidemiologically linked with local case</td>\n",
       "      <td>Confirmed</td>\n",
       "    </tr>\n",
       "    <tr>\n",
       "      <th>7803</th>\n",
       "      <td>16/12/2020</td>\n",
       "      <td>11/12/2020</td>\n",
       "      <td>M</td>\n",
       "      <td>40</td>\n",
       "      <td>NaN</td>\n",
       "      <td>To be provided</td>\n",
       "      <td>HK resident</td>\n",
       "      <td>Local case</td>\n",
       "      <td>Confirmed</td>\n",
       "    </tr>\n",
       "    <tr>\n",
       "      <th>7804</th>\n",
       "      <td>16/12/2020</td>\n",
       "      <td>11/12/2020</td>\n",
       "      <td>F</td>\n",
       "      <td>78</td>\n",
       "      <td>NaN</td>\n",
       "      <td>To be provided</td>\n",
       "      <td>HK resident</td>\n",
       "      <td>Local case</td>\n",
       "      <td>Confirmed</td>\n",
       "    </tr>\n",
       "  </tbody>\n",
       "</table>\n",
       "<p>7804 rows × 9 columns</p>\n",
       "</div>"
      ],
      "text/plain": [
       "         Report date Date of onset Gender  Age  Name of hospital admitted  \\\n",
       "Case no.                                                                    \n",
       "1         23/01/2020    21/01/2020      M   39                        NaN   \n",
       "2         23/01/2020    18/01/2020      M   56                        NaN   \n",
       "3         24/01/2020    20/01/2020      F   62                        NaN   \n",
       "4         24/01/2020    23/01/2020      F   62                        NaN   \n",
       "5         24/01/2020    23/01/2020      M   63                        NaN   \n",
       "...              ...           ...    ...  ...                        ...   \n",
       "7800      16/12/2020  Asymptomatic      F   58                        NaN   \n",
       "7801      16/12/2020  Asymptomatic      F   49                        NaN   \n",
       "7802      16/12/2020    14/12/2020      F   65                        NaN   \n",
       "7803      16/12/2020    11/12/2020      M   40                        NaN   \n",
       "7804      16/12/2020    11/12/2020      F   78                        NaN   \n",
       "\n",
       "         Hospitalised/Discharged/Deceased HK/Non-HK resident  \\\n",
       "Case no.                                                       \n",
       "1                              Discharged    Non-HK resident   \n",
       "2                              Discharged        HK resident   \n",
       "3                              Discharged    Non-HK resident   \n",
       "4                              Discharged    Non-HK resident   \n",
       "5                              Discharged    Non-HK resident   \n",
       "...                                   ...                ...   \n",
       "7800                       To be provided        HK resident   \n",
       "7801                       To be provided        HK resident   \n",
       "7802                       To be provided        HK resident   \n",
       "7803                       To be provided        HK resident   \n",
       "7804                       To be provided        HK resident   \n",
       "\n",
       "                               Case classification Confirmed/probable  \n",
       "Case no.                                                               \n",
       "1                                    Imported case          Confirmed  \n",
       "2                                    Imported case          Confirmed  \n",
       "3                                    Imported case          Confirmed  \n",
       "4                                    Imported case          Confirmed  \n",
       "5                                    Imported case          Confirmed  \n",
       "...                                            ...                ...  \n",
       "7800      Epidemiologically linked with local case          Confirmed  \n",
       "7801                                    Local case          Confirmed  \n",
       "7802      Epidemiologically linked with local case          Confirmed  \n",
       "7803                                    Local case          Confirmed  \n",
       "7804                                    Local case          Confirmed  \n",
       "\n",
       "[7804 rows x 9 columns]"
      ]
     },
     "execution_count": 9,
     "metadata": {},
     "output_type": "execute_result"
    }
   ],
   "source": [
    "df.rename(columns = {'Case classification*': 'Case classification'}, inplace = True)\n",
    "df"
   ]
  },
  {
   "cell_type": "code",
   "execution_count": 10,
   "metadata": {},
   "outputs": [
    {
     "data": {
      "text/plain": [
       "NaN    7804\n",
       "Name: Name of hospital admitted, dtype: int64"
      ]
     },
     "execution_count": 10,
     "metadata": {},
     "output_type": "execute_result"
    }
   ],
   "source": [
    "df['Name of hospital admitted'].value_counts(dropna = False)\n"
   ]
  },
  {
   "cell_type": "code",
   "execution_count": 11,
   "metadata": {},
   "outputs": [
    {
     "data": {
      "text/plain": [
       "Epidemiologically linked with local case             3838\n",
       "Local case                                           2023\n",
       "Imported case                                        1737\n",
       "Possibly local case                                   103\n",
       "Epidemiologically linked with possibly local case      62\n",
       "Epidemiologically linked with imported case            41\n",
       "Name: Case classification, dtype: int64"
      ]
     },
     "execution_count": 11,
     "metadata": {},
     "output_type": "execute_result"
    }
   ],
   "source": [
    "df['Case classification'].value_counts()\n"
   ]
  },
  {
   "cell_type": "code",
   "execution_count": 12,
   "metadata": {},
   "outputs": [
    {
     "data": {
      "text/html": [
       "<div>\n",
       "<style scoped>\n",
       "    .dataframe tbody tr th:only-of-type {\n",
       "        vertical-align: middle;\n",
       "    }\n",
       "\n",
       "    .dataframe tbody tr th {\n",
       "        vertical-align: top;\n",
       "    }\n",
       "\n",
       "    .dataframe thead th {\n",
       "        text-align: right;\n",
       "    }\n",
       "</style>\n",
       "<table border=\"1\" class=\"dataframe\">\n",
       "  <thead>\n",
       "    <tr style=\"text-align: right;\">\n",
       "      <th></th>\n",
       "      <th>Report date</th>\n",
       "      <th>Date of onset</th>\n",
       "      <th>Gender</th>\n",
       "      <th>Age</th>\n",
       "      <th>Name of hospital admitted</th>\n",
       "      <th>Hospitalised/Discharged/Deceased</th>\n",
       "      <th>HK/Non-HK resident</th>\n",
       "      <th>Case classification</th>\n",
       "      <th>Confirmed/probable</th>\n",
       "    </tr>\n",
       "    <tr>\n",
       "      <th>Case no.</th>\n",
       "      <th></th>\n",
       "      <th></th>\n",
       "      <th></th>\n",
       "      <th></th>\n",
       "      <th></th>\n",
       "      <th></th>\n",
       "      <th></th>\n",
       "      <th></th>\n",
       "      <th></th>\n",
       "    </tr>\n",
       "  </thead>\n",
       "  <tbody>\n",
       "    <tr>\n",
       "      <th>7800</th>\n",
       "      <td>16/12/2020</td>\n",
       "      <td>Asymptomatic</td>\n",
       "      <td>F</td>\n",
       "      <td>58</td>\n",
       "      <td>NaN</td>\n",
       "      <td>To be provided</td>\n",
       "      <td>HK resident</td>\n",
       "      <td>Epidemiologically linked with local case</td>\n",
       "      <td>Confirmed</td>\n",
       "    </tr>\n",
       "    <tr>\n",
       "      <th>7801</th>\n",
       "      <td>16/12/2020</td>\n",
       "      <td>Asymptomatic</td>\n",
       "      <td>F</td>\n",
       "      <td>49</td>\n",
       "      <td>NaN</td>\n",
       "      <td>To be provided</td>\n",
       "      <td>HK resident</td>\n",
       "      <td>Local case</td>\n",
       "      <td>Confirmed</td>\n",
       "    </tr>\n",
       "    <tr>\n",
       "      <th>7802</th>\n",
       "      <td>16/12/2020</td>\n",
       "      <td>14/12/2020</td>\n",
       "      <td>F</td>\n",
       "      <td>65</td>\n",
       "      <td>NaN</td>\n",
       "      <td>To be provided</td>\n",
       "      <td>HK resident</td>\n",
       "      <td>Epidemiologically linked with local case</td>\n",
       "      <td>Confirmed</td>\n",
       "    </tr>\n",
       "    <tr>\n",
       "      <th>7803</th>\n",
       "      <td>16/12/2020</td>\n",
       "      <td>11/12/2020</td>\n",
       "      <td>M</td>\n",
       "      <td>40</td>\n",
       "      <td>NaN</td>\n",
       "      <td>To be provided</td>\n",
       "      <td>HK resident</td>\n",
       "      <td>Local case</td>\n",
       "      <td>Confirmed</td>\n",
       "    </tr>\n",
       "    <tr>\n",
       "      <th>7804</th>\n",
       "      <td>16/12/2020</td>\n",
       "      <td>11/12/2020</td>\n",
       "      <td>F</td>\n",
       "      <td>78</td>\n",
       "      <td>NaN</td>\n",
       "      <td>To be provided</td>\n",
       "      <td>HK resident</td>\n",
       "      <td>Local case</td>\n",
       "      <td>Confirmed</td>\n",
       "    </tr>\n",
       "  </tbody>\n",
       "</table>\n",
       "</div>"
      ],
      "text/plain": [
       "         Report date Date of onset Gender  Age  Name of hospital admitted  \\\n",
       "Case no.                                                                    \n",
       "7800      16/12/2020  Asymptomatic      F   58                        NaN   \n",
       "7801      16/12/2020  Asymptomatic      F   49                        NaN   \n",
       "7802      16/12/2020    14/12/2020      F   65                        NaN   \n",
       "7803      16/12/2020    11/12/2020      M   40                        NaN   \n",
       "7804      16/12/2020    11/12/2020      F   78                        NaN   \n",
       "\n",
       "         Hospitalised/Discharged/Deceased HK/Non-HK resident  \\\n",
       "Case no.                                                       \n",
       "7800                       To be provided        HK resident   \n",
       "7801                       To be provided        HK resident   \n",
       "7802                       To be provided        HK resident   \n",
       "7803                       To be provided        HK resident   \n",
       "7804                       To be provided        HK resident   \n",
       "\n",
       "                               Case classification Confirmed/probable  \n",
       "Case no.                                                               \n",
       "7800      Epidemiologically linked with local case          Confirmed  \n",
       "7801                                    Local case          Confirmed  \n",
       "7802      Epidemiologically linked with local case          Confirmed  \n",
       "7803                                    Local case          Confirmed  \n",
       "7804                                    Local case          Confirmed  "
      ]
     },
     "execution_count": 12,
     "metadata": {},
     "output_type": "execute_result"
    }
   ],
   "source": [
    "df.head()\n",
    "df.tail()\n"
   ]
  },
  {
   "cell_type": "code",
   "execution_count": 13,
   "metadata": {},
   "outputs": [
    {
     "data": {
      "text/plain": [
       "Asymptomatic    2171\n",
       "27/07/2020       131\n",
       "25/07/2020       118\n",
       "24/07/2020       113\n",
       "22/07/2020       106\n",
       "                ... \n",
       "04/11/2020         1\n",
       "Mid- July          1\n",
       "17/06/2020         1\n",
       "18/01/2020         1\n",
       "05/03/2020         1\n",
       "Name: Date of onset, Length: 286, dtype: int64"
      ]
     },
     "execution_count": 13,
     "metadata": {},
     "output_type": "execute_result"
    }
   ],
   "source": [
    "df['Date of onset'].value_counts()\n"
   ]
  },
  {
   "cell_type": "code",
   "execution_count": 14,
   "metadata": {},
   "outputs": [
    {
     "data": {
      "image/png": "[encoded data removed]",
      "text/plain": [
       "<Figure size 600x600 with 1 Axes>"
      ]
     },
     "metadata": {},
     "output_type": "display_data"
    }
   ],
   "source": [
    "df_asym = df.copy()\n",
    "df_asym = df_asym.replace(to_replace=r\"^(.(?<!Asymptomatic))*?$\", value = \"Symptomatic\", regex = True)\n",
    "fig = plt.figure(figsize=(6,6), dpi=100)\n",
    "df_asym['Date of onset'].value_counts().plot.pie(startangle = 90, autopct = '%1.1f%%', labels = None, explode = (0.1, 0))\n",
    "plt.legend(labels = df_asym['Date of onset'].value_counts().index, bbox_to_anchor =(1, 0.5))\n",
    "plt.show()"
   ]
  },
  {
   "cell_type": "code",
   "execution_count": 15,
   "metadata": {},
   "outputs": [
    {
     "data": {
      "text/plain": [
       "F    3991\n",
       "M    3813\n",
       "Name: Gender, dtype: int64"
      ]
     },
     "execution_count": 15,
     "metadata": {},
     "output_type": "execute_result"
    }
   ],
   "source": [
    "df_gender = df['Gender'].value_counts()\n",
    "df_gender"
   ]
  },
  {
   "cell_type": "code",
   "execution_count": 16,
   "metadata": {},
   "outputs": [
    {
     "data": {
      "image/png": "[encoded data removed]",
      "text/plain": [
       "<Figure size 600x600 with 1 Axes>"
      ]
     },
     "metadata": {},
     "output_type": "display_data"
    }
   ],
   "source": [
    "# Gender Plot\n",
    "fig = plt.figure(figsize=(6,6), dpi=100)\n",
    "colors = ['#fc4f30','#008fd5']\n",
    "plt.title('Gender')\n",
    "df_gender.plot(kind = 'pie',labels = None ,colors = colors, startangle = 90, autopct='%1.2f%%',pctdistance=0.7, explode = (0.01, 0.01))\n",
    "plt.legend(labels=df_gender.index, bbox_to_anchor =(1, 0.5)) \n",
    "plt.axis('equal')\n",
    "plt.show()"
   ]
  },
  {
   "cell_type": "code",
   "execution_count": 17,
   "metadata": {},
   "outputs": [
    {
     "data": {
      "image/png": "[encoded data removed]",
      "text/plain": [
       "<Figure size 720x576 with 1 Axes>"
      ]
     },
     "metadata": {},
     "output_type": "display_data"
    }
   ],
   "source": [
    "# Age Plot\n",
    "count, bin_edges = np.histogram(df['Age'], 20)\n",
    "plt.style.use('seaborn-whitegrid')\n",
    "plt.title('Age')\n",
    "df['Age'].plot(kind = 'hist', figsize = (10,8), bins =bin_edges, edgecolor = 'black', linewidth = 1.2)\n",
    "plt.xlabel(\"Age\")\n",
    "plt.show()"
   ]
  },
  {
   "cell_type": "code",
   "execution_count": 18,
   "metadata": {},
   "outputs": [
    {
     "data": {
      "text/plain": [
       "HK resident        7461\n",
       "Non-HK resident     290\n",
       "HK Resident          42\n",
       "Non-HK Resident       7\n",
       "non-HK resident       3\n",
       "Pending               1\n",
       "Name: HK/Non-HK resident, dtype: int64"
      ]
     },
     "execution_count": 18,
     "metadata": {},
     "output_type": "execute_result"
    }
   ],
   "source": [
    "df_residence = df['HK/Non-HK resident'].value_counts()\n",
    "df_residence"
   ]
  },
  {
   "cell_type": "code",
   "execution_count": 19,
   "metadata": {},
   "outputs": [
    {
     "data": {
      "text/plain": [
       "HK Resident        7503\n",
       "Non-HK Resident     297\n",
       "non-HK resident       3\n",
       "Pending               1\n",
       "Name: HK/Non-HK resident, dtype: int64"
      ]
     },
     "execution_count": 19,
     "metadata": {},
     "output_type": "execute_result"
    }
   ],
   "source": [
    "df.replace({'HK resident' : 'HK Resident', 'Non-HK resident':'Non-HK Resident'}, inplace = True)\n",
    "df_residence = df['HK/Non-HK resident'].value_counts()\n",
    "df_residence"
   ]
  },
  {
   "cell_type": "code",
   "execution_count": 20,
   "metadata": {},
   "outputs": [
    {
     "ename": "ValueError",
     "evalue": "'explode' must be of length 'x'",
     "output_type": "error",
     "traceback": [
      "\u001b[1;31m---------------------------------------------------------------------------\u001b[0m",
      "\u001b[1;31mValueError\u001b[0m                                Traceback (most recent call last)",
      "\u001b[1;32m<ipython-input-20-3ddf34078dce>\u001b[0m in \u001b[0;36m<module>\u001b[1;34m\u001b[0m\n\u001b[0;32m      1\u001b[0m \u001b[0mfig\u001b[0m \u001b[1;33m=\u001b[0m \u001b[0mplt\u001b[0m\u001b[1;33m.\u001b[0m\u001b[0mfigure\u001b[0m\u001b[1;33m(\u001b[0m\u001b[0mfigsize\u001b[0m\u001b[1;33m=\u001b[0m\u001b[1;33m(\u001b[0m\u001b[1;36m6\u001b[0m\u001b[1;33m,\u001b[0m\u001b[1;36m6\u001b[0m\u001b[1;33m)\u001b[0m\u001b[1;33m,\u001b[0m \u001b[0mdpi\u001b[0m\u001b[1;33m=\u001b[0m\u001b[1;36m100\u001b[0m\u001b[1;33m)\u001b[0m\u001b[1;33m\u001b[0m\u001b[1;33m\u001b[0m\u001b[0m\n\u001b[1;32m----> 2\u001b[1;33m \u001b[0mdf_residence\u001b[0m\u001b[1;33m.\u001b[0m\u001b[0mplot\u001b[0m\u001b[1;33m(\u001b[0m\u001b[0mkind\u001b[0m \u001b[1;33m=\u001b[0m \u001b[1;34m'pie'\u001b[0m\u001b[1;33m,\u001b[0m \u001b[0mautopct\u001b[0m \u001b[1;33m=\u001b[0m \u001b[1;34m'%1.2f%%'\u001b[0m\u001b[1;33m,\u001b[0m \u001b[0mpctdistance\u001b[0m \u001b[1;33m=\u001b[0m \u001b[1;36m1.1\u001b[0m\u001b[1;33m,\u001b[0m \u001b[0mstartangle\u001b[0m \u001b[1;33m=\u001b[0m \u001b[1;36m90\u001b[0m\u001b[1;33m,\u001b[0m \u001b[0mlabels\u001b[0m \u001b[1;33m=\u001b[0m \u001b[1;32mNone\u001b[0m\u001b[1;33m,\u001b[0m \u001b[0mexplode\u001b[0m \u001b[1;33m=\u001b[0m \u001b[1;33m(\u001b[0m\u001b[1;36m0.3\u001b[0m\u001b[1;33m,\u001b[0m \u001b[1;36m0.3\u001b[0m\u001b[1;33m,\u001b[0m \u001b[1;36m0\u001b[0m\u001b[1;33m)\u001b[0m\u001b[1;33m)\u001b[0m\u001b[1;33m\u001b[0m\u001b[1;33m\u001b[0m\u001b[0m\n\u001b[0m\u001b[0;32m      3\u001b[0m \u001b[0mplt\u001b[0m\u001b[1;33m.\u001b[0m\u001b[0mlegend\u001b[0m\u001b[1;33m(\u001b[0m\u001b[0mlabels\u001b[0m\u001b[1;33m=\u001b[0m\u001b[0mdf_residence\u001b[0m\u001b[1;33m.\u001b[0m\u001b[0mindex\u001b[0m\u001b[1;33m,\u001b[0m \u001b[0mloc\u001b[0m\u001b[1;33m=\u001b[0m\u001b[1;34m'center left'\u001b[0m\u001b[1;33m,\u001b[0m \u001b[0mshadow\u001b[0m \u001b[1;33m=\u001b[0m \u001b[1;32mTrue\u001b[0m\u001b[1;33m,\u001b[0m \u001b[0mbbox_to_anchor\u001b[0m \u001b[1;33m=\u001b[0m\u001b[1;33m(\u001b[0m\u001b[1;36m1\u001b[0m\u001b[1;33m,\u001b[0m \u001b[1;36m0.5\u001b[0m\u001b[1;33m)\u001b[0m\u001b[1;33m)\u001b[0m\u001b[1;33m\u001b[0m\u001b[1;33m\u001b[0m\u001b[0m\n\u001b[0;32m      4\u001b[0m \u001b[0mplt\u001b[0m\u001b[1;33m.\u001b[0m\u001b[0maxis\u001b[0m\u001b[1;33m(\u001b[0m\u001b[1;34m'equal'\u001b[0m\u001b[1;33m)\u001b[0m\u001b[1;33m\u001b[0m\u001b[1;33m\u001b[0m\u001b[0m\n\u001b[0;32m      5\u001b[0m \u001b[1;33m\u001b[0m\u001b[0m\n",
      "\u001b[1;32mC:\\tools\\Anaconda3\\lib\\site-packages\\pandas\\plotting\\_core.py\u001b[0m in \u001b[0;36m__call__\u001b[1;34m(self, *args, **kwargs)\u001b[0m\n\u001b[0;32m    947\u001b[0m                     \u001b[0mdata\u001b[0m\u001b[1;33m.\u001b[0m\u001b[0mcolumns\u001b[0m \u001b[1;33m=\u001b[0m \u001b[0mlabel_name\u001b[0m\u001b[1;33m\u001b[0m\u001b[1;33m\u001b[0m\u001b[0m\n\u001b[0;32m    948\u001b[0m \u001b[1;33m\u001b[0m\u001b[0m\n\u001b[1;32m--> 949\u001b[1;33m         \u001b[1;32mreturn\u001b[0m \u001b[0mplot_backend\u001b[0m\u001b[1;33m.\u001b[0m\u001b[0mplot\u001b[0m\u001b[1;33m(\u001b[0m\u001b[0mdata\u001b[0m\u001b[1;33m,\u001b[0m \u001b[0mkind\u001b[0m\u001b[1;33m=\u001b[0m\u001b[0mkind\u001b[0m\u001b[1;33m,\u001b[0m \u001b[1;33m**\u001b[0m\u001b[0mkwargs\u001b[0m\u001b[1;33m)\u001b[0m\u001b[1;33m\u001b[0m\u001b[1;33m\u001b[0m\u001b[0m\n\u001b[0m\u001b[0;32m    950\u001b[0m \u001b[1;33m\u001b[0m\u001b[0m\n\u001b[0;32m    951\u001b[0m     \u001b[0m__call__\u001b[0m\u001b[1;33m.\u001b[0m\u001b[0m__doc__\u001b[0m \u001b[1;33m=\u001b[0m \u001b[0m__doc__\u001b[0m\u001b[1;33m\u001b[0m\u001b[1;33m\u001b[0m\u001b[0m\n",
      "\u001b[1;32mC:\\tools\\Anaconda3\\lib\\site-packages\\pandas\\plotting\\_matplotlib\\__init__.py\u001b[0m in \u001b[0;36mplot\u001b[1;34m(data, kind, **kwargs)\u001b[0m\n\u001b[0;32m     59\u001b[0m             \u001b[0mkwargs\u001b[0m\u001b[1;33m[\u001b[0m\u001b[1;34m\"ax\"\u001b[0m\u001b[1;33m]\u001b[0m \u001b[1;33m=\u001b[0m \u001b[0mgetattr\u001b[0m\u001b[1;33m(\u001b[0m\u001b[0max\u001b[0m\u001b[1;33m,\u001b[0m \u001b[1;34m\"left_ax\"\u001b[0m\u001b[1;33m,\u001b[0m \u001b[0max\u001b[0m\u001b[1;33m)\u001b[0m\u001b[1;33m\u001b[0m\u001b[1;33m\u001b[0m\u001b[0m\n\u001b[0;32m     60\u001b[0m     \u001b[0mplot_obj\u001b[0m \u001b[1;33m=\u001b[0m \u001b[0mPLOT_CLASSES\u001b[0m\u001b[1;33m[\u001b[0m\u001b[0mkind\u001b[0m\u001b[1;33m]\u001b[0m\u001b[1;33m(\u001b[0m\u001b[0mdata\u001b[0m\u001b[1;33m,\u001b[0m \u001b[1;33m**\u001b[0m\u001b[0mkwargs\u001b[0m\u001b[1;33m)\u001b[0m\u001b[1;33m\u001b[0m\u001b[1;33m\u001b[0m\u001b[0m\n\u001b[1;32m---> 61\u001b[1;33m     \u001b[0mplot_obj\u001b[0m\u001b[1;33m.\u001b[0m\u001b[0mgenerate\u001b[0m\u001b[1;33m(\u001b[0m\u001b[1;33m)\u001b[0m\u001b[1;33m\u001b[0m\u001b[1;33m\u001b[0m\u001b[0m\n\u001b[0m\u001b[0;32m     62\u001b[0m     \u001b[0mplot_obj\u001b[0m\u001b[1;33m.\u001b[0m\u001b[0mdraw\u001b[0m\u001b[1;33m(\u001b[0m\u001b[1;33m)\u001b[0m\u001b[1;33m\u001b[0m\u001b[1;33m\u001b[0m\u001b[0m\n\u001b[0;32m     63\u001b[0m     \u001b[1;32mreturn\u001b[0m \u001b[0mplot_obj\u001b[0m\u001b[1;33m.\u001b[0m\u001b[0mresult\u001b[0m\u001b[1;33m\u001b[0m\u001b[1;33m\u001b[0m\u001b[0m\n",
      "\u001b[1;32mC:\\tools\\Anaconda3\\lib\\site-packages\\pandas\\plotting\\_matplotlib\\core.py\u001b[0m in \u001b[0;36mgenerate\u001b[1;34m(self)\u001b[0m\n\u001b[0;32m    269\u001b[0m         \u001b[0mself\u001b[0m\u001b[1;33m.\u001b[0m\u001b[0m_compute_plot_data\u001b[0m\u001b[1;33m(\u001b[0m\u001b[1;33m)\u001b[0m\u001b[1;33m\u001b[0m\u001b[1;33m\u001b[0m\u001b[0m\n\u001b[0;32m    270\u001b[0m         \u001b[0mself\u001b[0m\u001b[1;33m.\u001b[0m\u001b[0m_setup_subplots\u001b[0m\u001b[1;33m(\u001b[0m\u001b[1;33m)\u001b[0m\u001b[1;33m\u001b[0m\u001b[1;33m\u001b[0m\u001b[0m\n\u001b[1;32m--> 271\u001b[1;33m         \u001b[0mself\u001b[0m\u001b[1;33m.\u001b[0m\u001b[0m_make_plot\u001b[0m\u001b[1;33m(\u001b[0m\u001b[1;33m)\u001b[0m\u001b[1;33m\u001b[0m\u001b[1;33m\u001b[0m\u001b[0m\n\u001b[0m\u001b[0;32m    272\u001b[0m         \u001b[0mself\u001b[0m\u001b[1;33m.\u001b[0m\u001b[0m_add_table\u001b[0m\u001b[1;33m(\u001b[0m\u001b[1;33m)\u001b[0m\u001b[1;33m\u001b[0m\u001b[1;33m\u001b[0m\u001b[0m\n\u001b[0;32m    273\u001b[0m         \u001b[0mself\u001b[0m\u001b[1;33m.\u001b[0m\u001b[0m_make_legend\u001b[0m\u001b[1;33m(\u001b[0m\u001b[1;33m)\u001b[0m\u001b[1;33m\u001b[0m\u001b[1;33m\u001b[0m\u001b[0m\n",
      "\u001b[1;32mC:\\tools\\Anaconda3\\lib\\site-packages\\pandas\\plotting\\_matplotlib\\core.py\u001b[0m in \u001b[0;36m_make_plot\u001b[1;34m(self)\u001b[0m\n\u001b[0;32m   1545\u001b[0m             \u001b[1;32melse\u001b[0m\u001b[1;33m:\u001b[0m\u001b[1;33m\u001b[0m\u001b[1;33m\u001b[0m\u001b[0m\n\u001b[0;32m   1546\u001b[0m                 \u001b[0mblabels\u001b[0m \u001b[1;33m=\u001b[0m \u001b[1;32mNone\u001b[0m\u001b[1;33m\u001b[0m\u001b[1;33m\u001b[0m\u001b[0m\n\u001b[1;32m-> 1547\u001b[1;33m             \u001b[0mresults\u001b[0m \u001b[1;33m=\u001b[0m \u001b[0max\u001b[0m\u001b[1;33m.\u001b[0m\u001b[0mpie\u001b[0m\u001b[1;33m(\u001b[0m\u001b[0my\u001b[0m\u001b[1;33m,\u001b[0m \u001b[0mlabels\u001b[0m\u001b[1;33m=\u001b[0m\u001b[0mblabels\u001b[0m\u001b[1;33m,\u001b[0m \u001b[1;33m**\u001b[0m\u001b[0mkwds\u001b[0m\u001b[1;33m)\u001b[0m\u001b[1;33m\u001b[0m\u001b[1;33m\u001b[0m\u001b[0m\n\u001b[0m\u001b[0;32m   1548\u001b[0m \u001b[1;33m\u001b[0m\u001b[0m\n\u001b[0;32m   1549\u001b[0m             \u001b[1;32mif\u001b[0m \u001b[0mkwds\u001b[0m\u001b[1;33m.\u001b[0m\u001b[0mget\u001b[0m\u001b[1;33m(\u001b[0m\u001b[1;34m\"autopct\"\u001b[0m\u001b[1;33m,\u001b[0m \u001b[1;32mNone\u001b[0m\u001b[1;33m)\u001b[0m \u001b[1;32mis\u001b[0m \u001b[1;32mnot\u001b[0m \u001b[1;32mNone\u001b[0m\u001b[1;33m:\u001b[0m\u001b[1;33m\u001b[0m\u001b[1;33m\u001b[0m\u001b[0m\n",
      "\u001b[1;32mC:\\tools\\Anaconda3\\lib\\site-packages\\matplotlib\\__init__.py\u001b[0m in \u001b[0;36minner\u001b[1;34m(ax, data, *args, **kwargs)\u001b[0m\n\u001b[0;32m   1436\u001b[0m     \u001b[1;32mdef\u001b[0m \u001b[0minner\u001b[0m\u001b[1;33m(\u001b[0m\u001b[0max\u001b[0m\u001b[1;33m,\u001b[0m \u001b[1;33m*\u001b[0m\u001b[0margs\u001b[0m\u001b[1;33m,\u001b[0m \u001b[0mdata\u001b[0m\u001b[1;33m=\u001b[0m\u001b[1;32mNone\u001b[0m\u001b[1;33m,\u001b[0m \u001b[1;33m**\u001b[0m\u001b[0mkwargs\u001b[0m\u001b[1;33m)\u001b[0m\u001b[1;33m:\u001b[0m\u001b[1;33m\u001b[0m\u001b[1;33m\u001b[0m\u001b[0m\n\u001b[0;32m   1437\u001b[0m         \u001b[1;32mif\u001b[0m \u001b[0mdata\u001b[0m \u001b[1;32mis\u001b[0m \u001b[1;32mNone\u001b[0m\u001b[1;33m:\u001b[0m\u001b[1;33m\u001b[0m\u001b[1;33m\u001b[0m\u001b[0m\n\u001b[1;32m-> 1438\u001b[1;33m             \u001b[1;32mreturn\u001b[0m \u001b[0mfunc\u001b[0m\u001b[1;33m(\u001b[0m\u001b[0max\u001b[0m\u001b[1;33m,\u001b[0m \u001b[1;33m*\u001b[0m\u001b[0mmap\u001b[0m\u001b[1;33m(\u001b[0m\u001b[0msanitize_sequence\u001b[0m\u001b[1;33m,\u001b[0m \u001b[0margs\u001b[0m\u001b[1;33m)\u001b[0m\u001b[1;33m,\u001b[0m \u001b[1;33m**\u001b[0m\u001b[0mkwargs\u001b[0m\u001b[1;33m)\u001b[0m\u001b[1;33m\u001b[0m\u001b[1;33m\u001b[0m\u001b[0m\n\u001b[0m\u001b[0;32m   1439\u001b[0m \u001b[1;33m\u001b[0m\u001b[0m\n\u001b[0;32m   1440\u001b[0m         \u001b[0mbound\u001b[0m \u001b[1;33m=\u001b[0m \u001b[0mnew_sig\u001b[0m\u001b[1;33m.\u001b[0m\u001b[0mbind\u001b[0m\u001b[1;33m(\u001b[0m\u001b[0max\u001b[0m\u001b[1;33m,\u001b[0m \u001b[1;33m*\u001b[0m\u001b[0margs\u001b[0m\u001b[1;33m,\u001b[0m \u001b[1;33m**\u001b[0m\u001b[0mkwargs\u001b[0m\u001b[1;33m)\u001b[0m\u001b[1;33m\u001b[0m\u001b[1;33m\u001b[0m\u001b[0m\n",
      "\u001b[1;32mC:\\tools\\Anaconda3\\lib\\site-packages\\matplotlib\\axes\\_axes.py\u001b[0m in \u001b[0;36mpie\u001b[1;34m(self, x, explode, labels, colors, autopct, pctdistance, shadow, labeldistance, startangle, radius, counterclock, wedgeprops, textprops, center, frame, rotatelabels, normalize)\u001b[0m\n\u001b[0;32m   3024\u001b[0m             \u001b[1;32mraise\u001b[0m \u001b[0mValueError\u001b[0m\u001b[1;33m(\u001b[0m\u001b[1;34m\"'label' must be of length 'x'\"\u001b[0m\u001b[1;33m)\u001b[0m\u001b[1;33m\u001b[0m\u001b[1;33m\u001b[0m\u001b[0m\n\u001b[0;32m   3025\u001b[0m         \u001b[1;32mif\u001b[0m \u001b[0mlen\u001b[0m\u001b[1;33m(\u001b[0m\u001b[0mx\u001b[0m\u001b[1;33m)\u001b[0m \u001b[1;33m!=\u001b[0m \u001b[0mlen\u001b[0m\u001b[1;33m(\u001b[0m\u001b[0mexplode\u001b[0m\u001b[1;33m)\u001b[0m\u001b[1;33m:\u001b[0m\u001b[1;33m\u001b[0m\u001b[1;33m\u001b[0m\u001b[0m\n\u001b[1;32m-> 3026\u001b[1;33m             \u001b[1;32mraise\u001b[0m \u001b[0mValueError\u001b[0m\u001b[1;33m(\u001b[0m\u001b[1;34m\"'explode' must be of length 'x'\"\u001b[0m\u001b[1;33m)\u001b[0m\u001b[1;33m\u001b[0m\u001b[1;33m\u001b[0m\u001b[0m\n\u001b[0m\u001b[0;32m   3027\u001b[0m         \u001b[1;32mif\u001b[0m \u001b[0mcolors\u001b[0m \u001b[1;32mis\u001b[0m \u001b[1;32mNone\u001b[0m\u001b[1;33m:\u001b[0m\u001b[1;33m\u001b[0m\u001b[1;33m\u001b[0m\u001b[0m\n\u001b[0;32m   3028\u001b[0m             \u001b[0mget_next_color\u001b[0m \u001b[1;33m=\u001b[0m \u001b[0mself\u001b[0m\u001b[1;33m.\u001b[0m\u001b[0m_get_patches_for_fill\u001b[0m\u001b[1;33m.\u001b[0m\u001b[0mget_next_color\u001b[0m\u001b[1;33m\u001b[0m\u001b[1;33m\u001b[0m\u001b[0m\n",
      "\u001b[1;31mValueError\u001b[0m: 'explode' must be of length 'x'"
     ]
    },
    {
     "data": {
      "image/png": "[encoded data removed]",
      "text/plain": [
       "<Figure size 600x600 with 1 Axes>"
      ]
     },
     "metadata": {},
     "output_type": "display_data"
    }
   ],
   "source": [
    "fig = plt.figure(figsize=(6,6), dpi=100)\n",
    "df_residence.plot(kind = 'pie', autopct = '%1.2f%%', pctdistance = 1.1, startangle = 90, labels = None, explode = (0.3, 0.3, 0))\n",
    "plt.legend(labels=df_residence.index, loc='center left', shadow = True, bbox_to_anchor =(1, 0.5))\n",
    "plt.axis('equal')\n",
    "\n",
    "plt.show()"
   ]
  },
  {
   "cell_type": "code",
   "execution_count": null,
   "metadata": {},
   "outputs": [],
   "source": [
    "fig = plt.figure(figsize=(6,6), dpi=100)\n",
    "df['Case classification'].value_counts().plot(kind = 'pie', autopct = '%1.1f%%', pctdistance = 1.15, startangle = 90, labels = None, explode = (0,0.05,0.1,0.15,0.2,0.25))\n",
    "plt.legend(labels = df['Case classification'].value_counts().index, bbox_to_anchor =(1, 0.5))\n",
    "plt.show()"
   ]
  },
  {
   "cell_type": "code",
   "execution_count": null,
   "metadata": {},
   "outputs": [],
   "source": [
    "date = df['Report date']\n",
    "df_date = pd.DataFrame(date.value_counts())\n",
    "df_date.reset_index(inplace = True)\n",
    "df_date.columns = ['Report date', 'Cases']\n",
    "df_date['Report date'] = pd.to_datetime(df_date['Report date'], format = '%d/%m/%Y')\n",
    "df_date.sort_values(['Report date'], inplace = True)\n",
    "df_date.set_index('Report date', inplace = True)\n",
    "df_date['Cumulative Cases'] = df_date['Cases'].cumsum()"
   ]
  },
  {
   "cell_type": "code",
   "execution_count": null,
   "metadata": {},
   "outputs": [],
   "source": [
    "fig, ax1 = plt.subplots(figsize=(20,10))\n",
    "ax1.set_ylabel('Daily Confirmed Cases', color = '#fc4f30')\n",
    "ax1.set_xlabel('Date')\n",
    "ax1 = df_date['Cases'].plot(color = '#fc4f30')\n",
    "\n",
    "ax2 = ax1.twinx()\n",
    "ax2.set_ylabel('Cumulative Confirmed Cases', color = '#008fd5')\n",
    "ax2 = df_date['Cumulative Cases'].plot(kind = 'area', alpha = 0.3, color = '#008fd5')\n",
    "\n",
    "ax2.grid(False)"
   ]
  },
  {
   "cell_type": "code",
   "execution_count": null,
   "metadata": {},
   "outputs": [],
   "source": [
    "#import another dataset\n",
    "df_building = pd.read_csv('building_list_eng.csv')\n",
    "df_building.head()\n"
   ]
  },
  {
   "cell_type": "code",
   "execution_count": null,
   "metadata": {},
   "outputs": [],
   "source": [
    "df_building.shape\n"
   ]
  },
  {
   "cell_type": "code",
   "execution_count": null,
   "metadata": {},
   "outputs": [],
   "source": [
    "df_building.describe()\n"
   ]
  },
  {
   "cell_type": "code",
   "execution_count": null,
   "metadata": {},
   "outputs": [],
   "source": [
    "df_district = pd.DataFrame(df_building['District'].value_counts())\n",
    "df_district.reset_index(inplace = True)\n",
    "df_district.columns = ['District', 'Cases Count']\n",
    "df_district.replace({'Central & Western' : 'Central and Western'}, inplace = True)\n",
    "df_district"
   ]
  },
  {
   "cell_type": "code",
   "execution_count": null,
   "metadata": {},
   "outputs": [],
   "source": [
    "import folium\n",
    "import geojson\n",
    "hk_map = folium.Map(location = [22.34, 114.1], zoom_start = 11, tiles = 'cartodbpositron')\n",
    "hk_map"
   ]
  },
  {
   "cell_type": "code",
   "execution_count": null,
   "metadata": {},
   "outputs": [],
   "source": [
    "hk_geo = geojson.load(open('hkg_adm1.geojson'))\n"
   ]
  },
  {
   "cell_type": "code",
   "execution_count": null,
   "metadata": {},
   "outputs": [],
   "source": [
    "choropleth = folium.Choropleth(geo_data = hk_geo,\n",
    "                  name = 'choropleth',\n",
    "                  data = df_district, \n",
    "                  columns = ['District', 'Cases Count'],\n",
    "                 key_on = 'feature.properties.name_1',\n",
    "                 fill_color = 'PuRd',\n",
    "                 legend_name = 'Cases Count',\n",
    "                 highlight = True).add_to(hk_map)\n",
    "\n",
    "toollip = folium.features.GeoJsonTooltip(fields = ['name_1'], aliases = ['District: '])\n",
    "choropleth.geojson.add_child(toollip)\n",
    "\n",
    "hk_map"
   ]
  },
  {
   "cell_type": "code",
   "execution_count": null,
   "metadata": {},
   "outputs": [],
   "source": []
  }
 ],
 "metadata": {
  "kernelspec": {
   "display_name": "Python 3",
   "language": "python",
   "name": "python3"
  },
  "language_info": {
   "codemirror_mode": {
    "name": "ipython",
    "version": 3
   },
   "file_extension": ".py",
   "mimetype": "text/x-python",
   "name": "python",
   "nbconvert_exporter": "python",
   "pygments_lexer": "ipython3",
   "version": "3.8.5"
  }
 },
 "nbformat": 4,
 "nbformat_minor": 4
}
